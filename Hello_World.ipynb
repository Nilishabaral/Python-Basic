{
  "nbformat": 4,
  "nbformat_minor": 0,
  "metadata": {
    "colab": {
      "provenance": [],
      "authorship_tag": "ABX9TyNsXMOBKVDf4XXbQKNB1hom",
      "include_colab_link": true
    },
    "kernelspec": {
      "name": "python3",
      "display_name": "Python 3"
    },
    "language_info": {
      "name": "python"
    }
  },
  "cells": [
    {
      "cell_type": "markdown",
      "metadata": {
        "id": "view-in-github",
        "colab_type": "text"
      },
      "source": [
        "<a href=\"https://colab.research.google.com/github/Nilishabaral/Python-Basic/blob/main/Hello_World.ipynb\" target=\"_parent\"><img src=\"https://colab.research.google.com/assets/colab-badge.svg\" alt=\"Open In Colab\"/></a>"
      ]
    },
    {
      "cell_type": "markdown",
      "source": [
        "#This Project includes Basic Python!\n",
        "Okay I am printing hello World."
      ],
      "metadata": {
        "id": "Jobeo6yX8-gH"
      }
    },
    {
      "cell_type": "code",
      "execution_count": null,
      "metadata": {
        "colab": {
          "base_uri": "https://localhost:8080/"
        },
        "id": "qecImlpv8yPS",
        "outputId": "a6a2e26a-cf48-42ab-917b-1a9265c399b0"
      },
      "outputs": [
        {
          "output_type": "stream",
          "name": "stdout",
          "text": [
            "Hello World\n"
          ]
        }
      ],
      "source": [
        "x='Hello World'\n",
        "print(x)"
      ]
    },
    {
      "cell_type": "code",
      "source": [
        "name = input(\"Enter what you would like to print?\")\n",
        "print(name)"
      ],
      "metadata": {
        "colab": {
          "base_uri": "https://localhost:8080/"
        },
        "id": "eeC73bh6-xbk",
        "outputId": "9c7fe43e-4536-4010-83e2-b52fed632a2e"
      },
      "execution_count": 5,
      "outputs": [
        {
          "output_type": "stream",
          "name": "stdout",
          "text": [
            "Enter what you would like to print?Nilisha\n",
            "Nilisha\n"
          ]
        }
      ]
    }
  ]
}